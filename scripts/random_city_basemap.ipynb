{
 "cells": [
  {
   "cell_type": "code",
   "execution_count": 1,
   "metadata": {},
   "outputs": [],
   "source": [
    "# Random Library Imports\n",
    "import os,glob,sys,time\n",
    "import json\n",
    "\n",
    "# Importing Datetime Libraries\n",
    "from datetime import datetime, timedelta\n",
    "\n",
    "# CartoPy Map Plotting Libraires\n",
    "import cartopy.crs as ccrs\n",
    "import cartopy.feature as cfeature\n",
    "import cartopy.io.shapereader as shpreader\n",
    "\n",
    "# Matplotlib Plotting Libraries\n",
    "import matplotlib.pyplot as plt\n",
    "from matplotlib.cm import get_cmap\n",
    "import matplotlib.colors as mcolors\n",
    "from matplotlib.colors import LogNorm, Normalize\n",
    "import matplotlib as mpl\n",
    "from mpl_toolkits.axes_grid1 import make_axes_locatable, axes_size\n",
    "from matplotlib.colors import LinearSegmentedColormap\n",
    "from matplotlib import patheffects\n",
    "\n",
    "import geopandas as gp\n",
    "import pandas as pd\n"
   ]
  },
  {
   "cell_type": "code",
   "execution_count": 2,
   "metadata": {},
   "outputs": [],
   "source": [
    "os.chdir(\"../src\")"
   ]
  },
  {
   "cell_type": "raw",
   "metadata": {},
   "source": [
    "# in case you get the missing xlrd error when trying to open xlsx files with pandas\n",
    "! conda install -c anaconda xlrd -y\n",
    "# run one time only if successful!"
   ]
  },
  {
   "cell_type": "code",
   "execution_count": 3,
   "metadata": {},
   "outputs": [],
   "source": [
    "# https://github.com/kelvins/US-Cities-Database\n",
    "file = \"us_cities.csv\""
   ]
  },
  {
   "cell_type": "code",
   "execution_count": 4,
   "metadata": {},
   "outputs": [],
   "source": [
    "usa = pd.read_csv(file)"
   ]
  },
  {
   "cell_type": "code",
   "execution_count": 45,
   "metadata": {},
   "outputs": [],
   "source": [
    "def get_city(usa):\n",
    "    \"\"\"\n",
    "    \n",
    "    \"\"\"\n",
    "    city = usa.sample()[\"CITY\"]\n",
    "    city = city.values[0]\n",
    "    city_df = usa[usa[\"CITY\"]==city]\n",
    "    \n",
    "\n",
    "    # run the sample again because there can be several states \n",
    "    # that have a shared city name\n",
    "    city_df = city_df.sample()\n",
    "    print(city_df)\n",
    "    return city_df\n",
    "    "
   ]
  },
  {
   "cell_type": "markdown",
   "metadata": {},
   "source": [
    "https://www.nrcs.usda.gov/wps/portal/nrcs/detail/?cid=nrcs143_013696"
   ]
  },
  {
   "cell_type": "code",
   "execution_count": 47,
   "metadata": {},
   "outputs": [
    {
     "name": "stdout",
     "output_type": "stream",
     "text": [
      "      ID STATE_CODE STATE_NAME     CITY   COUNTY   LATITUDE  LONGITUDE\n",
      "731  732         AL    Alabama  Stanton  Chilton  32.709631 -86.886848\n"
     ]
    }
   ],
   "source": [
    "city_df = get_city(usa)\n",
    "state = city_df.STATE_CODE.values[0]\n",
    "lat = city_df.LATITUDE.values[0]\n",
    "lon = city_df.LONGITUDE.values[0]"
   ]
  },
  {
   "cell_type": "code",
   "execution_count": 8,
   "metadata": {},
   "outputs": [
    {
     "name": "stdout",
     "output_type": "stream",
     "text": [
      "Shape of the dataframe: (3233, 10)\n"
     ]
    },
    {
     "data": {
      "text/html": [
       "<div>\n",
       "<style scoped>\n",
       "    .dataframe tbody tr th:only-of-type {\n",
       "        vertical-align: middle;\n",
       "    }\n",
       "\n",
       "    .dataframe tbody tr th {\n",
       "        vertical-align: top;\n",
       "    }\n",
       "\n",
       "    .dataframe thead th {\n",
       "        text-align: right;\n",
       "    }\n",
       "</style>\n",
       "<table border=\"1\" class=\"dataframe\">\n",
       "  <thead>\n",
       "    <tr style=\"text-align: right;\">\n",
       "      <th></th>\n",
       "      <th>STATEFP</th>\n",
       "      <th>COUNTYFP</th>\n",
       "      <th>COUNTYNS</th>\n",
       "      <th>AFFGEOID</th>\n",
       "      <th>GEOID</th>\n",
       "      <th>NAME</th>\n",
       "      <th>LSAD</th>\n",
       "      <th>ALAND</th>\n",
       "      <th>AWATER</th>\n",
       "      <th>geometry</th>\n",
       "    </tr>\n",
       "  </thead>\n",
       "  <tbody>\n",
       "    <tr>\n",
       "      <td>0</td>\n",
       "      <td>39</td>\n",
       "      <td>071</td>\n",
       "      <td>01074048</td>\n",
       "      <td>0500000US39071</td>\n",
       "      <td>39071</td>\n",
       "      <td>Highland</td>\n",
       "      <td>06</td>\n",
       "      <td>1432479992</td>\n",
       "      <td>12194983</td>\n",
       "      <td>POLYGON ((-83.86976 39.05553, -83.86568 39.247...</td>\n",
       "    </tr>\n",
       "    <tr>\n",
       "      <td>1</td>\n",
       "      <td>06</td>\n",
       "      <td>003</td>\n",
       "      <td>01675840</td>\n",
       "      <td>0500000US06003</td>\n",
       "      <td>06003</td>\n",
       "      <td>Alpine</td>\n",
       "      <td>06</td>\n",
       "      <td>1912292630</td>\n",
       "      <td>12557304</td>\n",
       "      <td>POLYGON ((-120.07248 38.50987, -120.07239 38.7...</td>\n",
       "    </tr>\n",
       "    <tr>\n",
       "      <td>2</td>\n",
       "      <td>12</td>\n",
       "      <td>033</td>\n",
       "      <td>00295737</td>\n",
       "      <td>0500000US12033</td>\n",
       "      <td>12033</td>\n",
       "      <td>Escambia</td>\n",
       "      <td>06</td>\n",
       "      <td>1701544502</td>\n",
       "      <td>563927612</td>\n",
       "      <td>POLYGON ((-87.62999 30.87766, -87.62946 30.880...</td>\n",
       "    </tr>\n",
       "    <tr>\n",
       "      <td>3</td>\n",
       "      <td>17</td>\n",
       "      <td>101</td>\n",
       "      <td>00424252</td>\n",
       "      <td>0500000US17101</td>\n",
       "      <td>17101</td>\n",
       "      <td>Lawrence</td>\n",
       "      <td>06</td>\n",
       "      <td>963936864</td>\n",
       "      <td>5077783</td>\n",
       "      <td>POLYGON ((-87.91028 38.57493, -87.90811 38.850...</td>\n",
       "    </tr>\n",
       "    <tr>\n",
       "      <td>4</td>\n",
       "      <td>28</td>\n",
       "      <td>153</td>\n",
       "      <td>00695797</td>\n",
       "      <td>0500000US28153</td>\n",
       "      <td>28153</td>\n",
       "      <td>Wayne</td>\n",
       "      <td>06</td>\n",
       "      <td>2099745573</td>\n",
       "      <td>7255476</td>\n",
       "      <td>POLYGON ((-88.94317 31.78421, -88.94335 31.824...</td>\n",
       "    </tr>\n",
       "  </tbody>\n",
       "</table>\n",
       "</div>"
      ],
      "text/plain": [
       "  STATEFP COUNTYFP  COUNTYNS        AFFGEOID  GEOID      NAME LSAD  \\\n",
       "0      39      071  01074048  0500000US39071  39071  Highland   06   \n",
       "1      06      003  01675840  0500000US06003  06003    Alpine   06   \n",
       "2      12      033  00295737  0500000US12033  12033  Escambia   06   \n",
       "3      17      101  00424252  0500000US17101  17101  Lawrence   06   \n",
       "4      28      153  00695797  0500000US28153  28153     Wayne   06   \n",
       "\n",
       "        ALAND     AWATER                                           geometry  \n",
       "0  1432479992   12194983  POLYGON ((-83.86976 39.05553, -83.86568 39.247...  \n",
       "1  1912292630   12557304  POLYGON ((-120.07248 38.50987, -120.07239 38.7...  \n",
       "2  1701544502  563927612  POLYGON ((-87.62999 30.87766, -87.62946 30.880...  \n",
       "3   963936864    5077783  POLYGON ((-87.91028 38.57493, -87.90811 38.850...  \n",
       "4  2099745573    7255476  POLYGON ((-88.94317 31.78421, -88.94335 31.824...  "
      ]
     },
     "execution_count": 8,
     "metadata": {},
     "output_type": "execute_result"
    }
   ],
   "source": [
    "shpfileList =  glob.glob(f\"cb_2018_us_county_5m/cb_2018_us_county_5m.shp\")\n",
    "\n",
    "shpfile = shpfileList[0]\n",
    "\"\"\"\n",
    " current_all.shp\n",
    "x current_all.shx\n",
    "x current_all.dbf\n",
    "x current_all.cpg\n",
    "x current_all.prj\n",
    "\"\"\"\n",
    "countySHP = gp.read_file(shpfile)\n",
    "print(\"Shape of the dataframe: {}\".format(countySHP.shape))\n",
    "#print(\"Projection of dataframe: {}\".format(usa.crs))\n",
    "#usa #last 5 records in dataframe\n",
    "countySHP.head()"
   ]
  },
  {
   "cell_type": "code",
   "execution_count": 9,
   "metadata": {},
   "outputs": [],
   "source": [
    "with open(\"state_codes.txt\", \"r\") as fp:\n",
    "    stateCodes = json.load(fp)"
   ]
  },
  {
   "cell_type": "code",
   "execution_count": 11,
   "metadata": {},
   "outputs": [],
   "source": [
    "with open(\"state_abbrs.txt\", \"r\") as fp:\n",
    "    stateAbbs = json.load(fp)"
   ]
  },
  {
   "cell_type": "code",
   "execution_count": 48,
   "metadata": {},
   "outputs": [],
   "source": [
    "code = stateCodes[stateAbbs.index(state)]\n",
    "counties = countySHP[countySHP[\"STATEFP\"]==code]"
   ]
  },
  {
   "cell_type": "code",
   "execution_count": null,
   "metadata": {},
   "outputs": [],
   "source": []
  },
  {
   "cell_type": "raw",
   "metadata": {},
   "source": [
    "df2 = pd.read_csv(\"data.csv\")\n",
    "df2.head(6)"
   ]
  },
  {
   "cell_type": "raw",
   "metadata": {},
   "source": [
    "extent = df2[df2[\"State\"]==state][\"Extent\"]\n",
    "extent"
   ]
  },
  {
   "cell_type": "code",
   "execution_count": 38,
   "metadata": {},
   "outputs": [],
   "source": [
    "def get_state_index(state,extents,set_extent):\n",
    "    index = stateAbbs.index(state)\n",
    "    extents[index] = set_extent\n",
    "    return extents"
   ]
  },
  {
   "cell_type": "raw",
   "metadata": {},
   "source": [
    "-75,-68,40.4,44"
   ]
  },
  {
   "cell_type": "raw",
   "metadata": {},
   "source": [
    "extents = [[-89,-84.5,30.,35.5],\n",
    "           [],\n",
    "           [],\n",
    "           [],\n",
    "           [],\n",
    "           [-108,-103,38,41],\n",
    "           [],\n",
    "           [],\n",
    "           [],\n",
    "           [],\n",
    "           [],\n",
    "           [],\n",
    "           [],\n",
    "           [],\n",
    "           [],\n",
    "           [],\n",
    "           [],\n",
    "           [],\n",
    "           [],\n",
    "           [],\n",
    "           [],\n",
    "           [],\n",
    "           [],\n",
    "           [],\n",
    "           [],\n",
    "           [],\n",
    "           [],\n",
    "           [],\n",
    "           [],\n",
    "           [],\n",
    "           [],\n",
    "           [],\n",
    "           [],\n",
    "           [],\n",
    "           [],\n",
    "           [],\n",
    "           [],\n",
    "           [-82,-73,38,43],\n",
    "           [],\n",
    "           [],\n",
    "           [],\n",
    "           [],\n",
    "           [],\n",
    "           [],\n",
    "           [],\n",
    "           [],\n",
    "           [],\n",
    "           [],\n",
    "           [],\n",
    "           [],\n",
    "           [],\n",
    "           [],\n",
    "           [],\n",
    "           [],\n",
    "           [],\n",
    "]"
   ]
  },
  {
   "cell_type": "code",
   "execution_count": 41,
   "metadata": {},
   "outputs": [],
   "source": [
    "extents2 = get_state_index(state,extents,[-75,-68,40.4,44])\n",
    "extent = extents2[stateAbbs.index(state)]"
   ]
  },
  {
   "cell_type": "code",
   "execution_count": 50,
   "metadata": {},
   "outputs": [
    {
     "data": {
      "text/plain": [
       "[-89, -84.5, 30.0, 35.5]"
      ]
     },
     "execution_count": 50,
     "metadata": {},
     "output_type": "execute_result"
    }
   ],
   "source": [
    "extent = extents[stateAbbs.index(state)]\n",
    "extent"
   ]
  },
  {
   "cell_type": "code",
   "execution_count": 51,
   "metadata": {},
   "outputs": [
    {
     "data": {
      "image/png": "[encoded data removed]",
      "text/plain": [
       "<Figure size 864x576 with 1 Axes>"
      ]
     },
     "metadata": {
      "needs_background": "light"
     },
     "output_type": "display_data"
    }
   ],
   "source": [
    "# Set Projection of Data\n",
    "datacrs = ccrs.PlateCarree()\n",
    "\n",
    "# Set Projection of Plot\n",
    "plotcrs = ccrs.LambertConformal(central_longitude=lon)    \n",
    "\n",
    "# Change the DPI of the resulting figure. Higher DPI drastically improves the\n",
    "# look of the text rendering\n",
    "plt.rcParams['savefig.dpi'] = 255\n",
    "\n",
    "# Create the figure and an axes set to the projection\n",
    "#    fig = plt.figure(figsize=(40, 20))\n",
    "fig = plt.figure(figsize=(12, 8))\n",
    "ax = fig.add_subplot(1, 1, 1, projection=plotcrs)\n",
    "\n",
    "\n",
    "state_boundaries = cfeature.NaturalEarthFeature(category='cultural', name='admin_1_states_provinces_lines', scale='110m', facecolor='none')\n",
    "    # Add some various map elements to the plot to make it recognizable\n",
    "ocean = cfeature.NaturalEarthFeature(category='physical', scale='50m', name='ocean', facecolor=cfeature.COLORS['water'])\n",
    "coast = cfeature.NaturalEarthFeature(category='physical', scale='50m', facecolor='none', name='coastline')\n",
    "state_borders = cfeature.NaturalEarthFeature(category='cultural', name='admin_1_states_provinces_lakes', scale='50m', facecolor='none') \n",
    "land = cfeature.NaturalEarthFeature(category='physical', scale='50m', name='land', facecolor=cfeature.COLORS['land'])\n",
    "\n",
    "#ax.add_feature(USCOUNTIES.with_scale(\"500k\"),linewidth=0.5,alpha=0.5)\n",
    "\n",
    "#ax.add_geometries(pa_counties[\"geometry\"],crs=ccrs.PlateCarree(),\n",
    "#                  edgecolor=\"k\",alpha=0.5,facecolor=\"w\",linewidth=0.5)\n",
    "\n",
    "#ax.add_geometries(nj_counties[\"geometry\"],crs=ccrs.PlateCarree(),\n",
    "#                  edgecolor=\"k\",alpha=0.5,facecolor=\"w\",linewidth=0.5)\n",
    "\n",
    "ax.add_geometries(counties[\"geometry\"],crs=ccrs.PlateCarree(),\n",
    "                  edgecolor=\"k\",alpha=0.5,facecolor=\"w\",linewidth=0.5)\n",
    "\n",
    "\n",
    "#from metpy.plots import USCOUNTIES\n",
    "#ax.add_feature(COUNTIES, facecolor='none', edgecolor='gray')\n",
    "ax.add_feature(ocean, zorder=-1)\n",
    "ax.add_feature(land, zorder=-1,alpha=0.6)\n",
    "ax.add_feature(state_borders, edgecolor='gray',alpha=0.6)\n",
    "ax.add_feature(coast, edgecolor='black')\n",
    "ax.scatter(-104.9903, 39.7392, marker='*', c=\"w\",transform=datacrs,s=105) # Denver\n",
    "#ax.scatter(-105.2705, 40.0150, marker='*', c=\"blue\",transform=datacrs,s=205) # Boulder\n",
    "ax.scatter(-105.0844, 40.5853, marker='o', c=\"blue\",transform=datacrs,s=30) # Ft Collins\n",
    "#transform = datacrs._as_mpl_transform(ax)\n",
    "\n",
    "\n",
    "ax.scatter(lon, lat, marker='*', c=\"k\",transform=datacrs,s=50) # forecast city\n",
    "\n",
    "\n",
    "#ax.annotate('Denver', xy=(-106, 38.8), xycoords=transform)#,ha='right', va='top')    \n",
    "# Reduce point density so that there's only one point within a 1km circle\n",
    "#mask = reduce_point_density(xy, 50000)\n",
    " \n",
    "# Set plot bounds to Africa\n",
    "ax.set_extent(extent)\n",
    "\n",
    "outline_effect = [patheffects.withStroke(linewidth=0.5, foreground='black')]\n",
    "\n",
    "# Set the plot title    \n",
    "#plt.title(title,loc='left',fontdict=font)\n",
    "#plt.title(title_date,loc='right',fontdict=font)\n",
    "\n",
    "\n",
    "outfile = f\"random_city_plot.png\"\n",
    "#fig.savefig(outfile,bbox_inches='tight',dpi=120)"
   ]
  },
  {
   "cell_type": "code",
   "execution_count": 30,
   "metadata": {},
   "outputs": [],
   "source": [
    "extent = [-75,-68,40.4,44]"
   ]
  },
  {
   "cell_type": "code",
   "execution_count": 52,
   "metadata": {},
   "outputs": [
    {
     "data": {
      "text/plain": [
       "[-89, -84.5, 30.0, 35.5]"
      ]
     },
     "execution_count": 52,
     "metadata": {},
     "output_type": "execute_result"
    }
   ],
   "source": [
    "extent"
   ]
  },
  {
   "cell_type": "code",
   "execution_count": null,
   "metadata": {},
   "outputs": [],
   "source": []
  }
 ],
 "metadata": {
  "kernelspec": {
   "display_name": "Python 3",
   "language": "python",
   "name": "python3"
  },
  "language_info": {
   "codemirror_mode": {
    "name": "ipython",
    "version": 3
   },
   "file_extension": ".py",
   "mimetype": "text/x-python",
   "name": "python",
   "nbconvert_exporter": "python",
   "pygments_lexer": "ipython3",
   "version": "3.7.6"
  }
 },
 "nbformat": 4,
 "nbformat_minor": 2
}
