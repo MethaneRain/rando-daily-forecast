{
 "cells": [
  {
   "cell_type": "code",
   "execution_count": 16,
   "metadata": {},
   "outputs": [
    {
     "data": {
      "text/plain": [
       "<Response [200]>"
      ]
     },
     "execution_count": 16,
     "metadata": {},
     "output_type": "execute_result"
    }
   ],
   "source": [
    "import requests\n",
    "import urllib.request\n",
    "import time\n",
    "from bs4 import BeautifulSoup\n",
    "import json\n",
    "\n",
    "url = \"https://www.nrcs.usda.gov/wps/portal/nrcs/detail/?cid=nrcs143_013696\"\n",
    "response = requests.get(url)\n",
    "\n",
    "response"
   ]
  },
  {
   "cell_type": "code",
   "execution_count": 17,
   "metadata": {},
   "outputs": [],
   "source": [
    "soup = BeautifulSoup(response.text, \"html.parser\")"
   ]
  },
  {
   "cell_type": "code",
   "execution_count": 18,
   "metadata": {},
   "outputs": [],
   "source": [
    "wow = soup.find(\"div\", {\"id\": \"detail\"})"
   ]
  },
  {
   "cell_type": "raw",
   "metadata": {},
   "source": [
    "Wow = list(wow.find_all(\"td\"))\n",
    "Wow[0],Wow[3],Wow[6],Wow[9]"
   ]
  },
  {
   "cell_type": "raw",
   "metadata": {},
   "source": [
    "sts = []\n",
    "for i,val in enumerate(Wow[0::3]):\n",
    "    sts.append(val)\n",
    "\n",
    "abbs = []\n",
    "for i,val in enumerate(Wow[1::3]):\n",
    "    abbs.append(val)\n",
    "    \n",
    "codes = []\n",
    "for i,val in enumerate(Wow[2::3]):\n",
    "    codes.append(val)\n",
    "\n",
    "ohboy = list(zip(sts,codes))\n",
    "#ohboy[0][0].replace(\"<td\")"
   ]
  },
  {
   "cell_type": "code",
   "execution_count": 19,
   "metadata": {},
   "outputs": [
    {
     "data": {
      "text/plain": [
       "'\\nState FIPS Codes\\n\\n\\n\\n\\n\\r\\n\\t\\t\\t\\tName\\n\\r\\n\\t\\t\\t\\tPostal Code\\n\\r\\n\\t\\t\\t\\tFIPS\\n\\n\\n\\r\\n\\t\\t\\t\\tAlabama\\n\\r\\n\\t\\t\\t\\tAL\\n\\r\\n\\t\\t\\t\\t01\\n\\n\\n\\r\\n\\t\\t\\t\\tAlaska\\n\\r\\n\\t\\t\\t\\tAK\\n\\r\\n\\t\\t\\t\\t02\\n\\n\\n\\r\\n\\t\\t\\t\\tArizona\\n\\r\\n\\t\\t\\t\\tAZ\\n\\r\\n\\t\\t\\t\\t04\\n\\n\\n\\r\\n\\t\\t\\t\\tArkansas\\n\\r\\n\\t\\t\\t\\tAR\\n\\r\\n\\t\\t\\t\\t05\\n\\n\\n\\r\\n\\t\\t\\t\\tCalifornia\\n\\r\\n\\t\\t\\t\\tCA\\n\\r\\n\\t\\t\\t\\t06\\n\\n\\n\\r\\n\\t\\t\\t\\tColorado\\n\\r\\n\\t\\t\\t\\tCO\\n\\r\\n\\t\\t\\t\\t08\\n\\n\\n\\r\\n\\t\\t\\t\\tConnecticut\\n\\r\\n\\t\\t\\t\\tCT\\n\\r\\n\\t\\t\\t\\t09\\n\\n\\n\\r\\n\\t\\t\\t\\tDelaware\\n\\r\\n\\t\\t\\t\\tDE\\n\\r\\n\\t\\t\\t\\t10\\n\\n\\n\\r\\n\\t\\t\\t\\tFlorida\\n\\r\\n\\t\\t\\t\\tFL\\n\\r\\n\\t\\t\\t\\t12\\n\\n\\n\\r\\n\\t\\t\\t\\tGeorgia\\n\\r\\n\\t\\t\\t\\tGA\\n\\r\\n\\t\\t\\t\\t13\\n\\n\\n\\r\\n\\t\\t\\t\\tHawaii\\n\\r\\n\\t\\t\\t\\tHI\\n\\r\\n\\t\\t\\t\\t15\\n\\n\\n\\r\\n\\t\\t\\t\\tIdaho\\n\\r\\n\\t\\t\\t\\tID\\n\\r\\n\\t\\t\\t\\t16\\n\\n\\n\\r\\n\\t\\t\\t\\tIllinois\\n\\r\\n\\t\\t\\t\\tIL\\n\\r\\n\\t\\t\\t\\t17\\n\\n\\n\\r\\n\\t\\t\\t\\tIndiana\\n\\r\\n\\t\\t\\t\\tIN\\n\\r\\n\\t\\t\\t\\t18\\n\\n\\n\\r\\n\\t\\t\\t\\tIowa\\n\\r\\n\\t\\t\\t\\tIA\\n\\r\\n\\t\\t\\t\\t19\\n\\n\\n\\r\\n\\t\\t\\t\\tKansas\\n\\r\\n\\t\\t\\t\\tKS\\n\\r\\n\\t\\t\\t\\t20\\n\\n\\n\\r\\n\\t\\t\\t\\tKentucky\\n\\r\\n\\t\\t\\t\\tKY\\n\\r\\n\\t\\t\\t\\t21\\n\\n\\n\\r\\n\\t\\t\\t\\tLouisiana\\n\\r\\n\\t\\t\\t\\tLA\\n\\r\\n\\t\\t\\t\\t22\\n\\n\\n\\r\\n\\t\\t\\t\\tMaine\\n\\r\\n\\t\\t\\t\\tME\\n\\r\\n\\t\\t\\t\\t23\\n\\n\\n\\r\\n\\t\\t\\t\\tMaryland\\n\\r\\n\\t\\t\\t\\tMD\\n\\r\\n\\t\\t\\t\\t24\\n\\n\\n\\r\\n\\t\\t\\t\\tMassachusetts\\n\\r\\n\\t\\t\\t\\tMA\\n\\r\\n\\t\\t\\t\\t25\\n\\n\\n\\r\\n\\t\\t\\t\\tMichigan\\n\\r\\n\\t\\t\\t\\tMI\\n\\r\\n\\t\\t\\t\\t26\\n\\n\\n\\r\\n\\t\\t\\t\\tMinnesota\\n\\r\\n\\t\\t\\t\\tMN\\n\\r\\n\\t\\t\\t\\t27\\n\\n\\n\\r\\n\\t\\t\\t\\tMississippi\\n\\r\\n\\t\\t\\t\\tMS\\n\\r\\n\\t\\t\\t\\t28\\n\\n\\n\\r\\n\\t\\t\\t\\tMissouri\\n\\r\\n\\t\\t\\t\\tMO\\n\\r\\n\\t\\t\\t\\t29\\n\\n\\n\\r\\n\\t\\t\\t\\tMontana\\n\\r\\n\\t\\t\\t\\tMT\\n\\r\\n\\t\\t\\t\\t30\\n\\n\\n\\r\\n\\t\\t\\t\\tNebraska\\n\\r\\n\\t\\t\\t\\tNE\\n\\r\\n\\t\\t\\t\\t31\\n\\n\\n\\r\\n\\t\\t\\t\\tNevada\\n\\r\\n\\t\\t\\t\\tNV\\n\\r\\n\\t\\t\\t\\t32\\n\\n\\n\\r\\n\\t\\t\\t\\tNew Hampshire\\n\\r\\n\\t\\t\\t\\tNH\\n\\r\\n\\t\\t\\t\\t33\\n\\n\\n\\r\\n\\t\\t\\t\\tNew Jersey\\n\\r\\n\\t\\t\\t\\tNJ\\n\\r\\n\\t\\t\\t\\t34\\n\\n\\n\\r\\n\\t\\t\\t\\tNew Mexico\\n\\r\\n\\t\\t\\t\\tNM\\n\\r\\n\\t\\t\\t\\t35\\n\\n\\n\\r\\n\\t\\t\\t\\tNew York\\n\\r\\n\\t\\t\\t\\tNY\\n\\r\\n\\t\\t\\t\\t36\\n\\n\\n\\r\\n\\t\\t\\t\\tNorth Carolina\\n\\r\\n\\t\\t\\t\\tNC\\n\\r\\n\\t\\t\\t\\t37\\n\\n\\n\\r\\n\\t\\t\\t\\tNorth Dakota\\n\\r\\n\\t\\t\\t\\tND\\n\\r\\n\\t\\t\\t\\t38\\n\\n\\n\\r\\n\\t\\t\\t\\tOhio\\n\\r\\n\\t\\t\\t\\tOH\\n\\r\\n\\t\\t\\t\\t39\\n\\n\\n\\r\\n\\t\\t\\t\\tOklahoma\\n\\r\\n\\t\\t\\t\\tOK\\n\\r\\n\\t\\t\\t\\t40\\n\\n\\n\\r\\n\\t\\t\\t\\tOregon\\n\\r\\n\\t\\t\\t\\tOR\\n\\r\\n\\t\\t\\t\\t41\\n\\n\\n\\r\\n\\t\\t\\t\\tPennsylvania\\n\\r\\n\\t\\t\\t\\tPA\\n\\r\\n\\t\\t\\t\\t42\\n\\n\\n\\r\\n\\t\\t\\t\\tRhode Island\\n\\r\\n\\t\\t\\t\\tRI\\n\\r\\n\\t\\t\\t\\t44\\n\\n\\n\\r\\n\\t\\t\\t\\tSouth Carolina\\n\\r\\n\\t\\t\\t\\tSC\\n\\r\\n\\t\\t\\t\\t45\\n\\n\\n\\r\\n\\t\\t\\t\\tSouth Dakota\\n\\r\\n\\t\\t\\t\\tSD\\n\\r\\n\\t\\t\\t\\t46\\n\\n\\n\\r\\n\\t\\t\\t\\tTennessee\\n\\r\\n\\t\\t\\t\\tTN\\n\\r\\n\\t\\t\\t\\t47\\n\\n\\n\\r\\n\\t\\t\\t\\tTexas\\n\\r\\n\\t\\t\\t\\tTX\\n\\r\\n\\t\\t\\t\\t48\\n\\n\\n\\r\\n\\t\\t\\t\\tUtah\\n\\r\\n\\t\\t\\t\\tUT\\n\\r\\n\\t\\t\\t\\t49\\n\\n\\n\\r\\n\\t\\t\\t\\tVermont\\n\\r\\n\\t\\t\\t\\tVT\\n\\r\\n\\t\\t\\t\\t50\\n\\n\\n\\r\\n\\t\\t\\t\\tVirginia\\n\\r\\n\\t\\t\\t\\tVA\\n\\r\\n\\t\\t\\t\\t51\\n\\n\\n\\r\\n\\t\\t\\t\\tWashington\\n\\r\\n\\t\\t\\t\\tWA\\n\\r\\n\\t\\t\\t\\t53\\n\\n\\n\\r\\n\\t\\t\\t\\tWest Virginia\\n\\r\\n\\t\\t\\t\\tWV\\n\\r\\n\\t\\t\\t\\t54\\n\\n\\n\\r\\n\\t\\t\\t\\tWisconsin\\n\\r\\n\\t\\t\\t\\tWI\\n\\r\\n\\t\\t\\t\\t55\\n\\n\\n\\r\\n\\t\\t\\t\\tWyoming\\n\\r\\n\\t\\t\\t\\tWY\\n\\r\\n\\t\\t\\t\\t56\\n\\n\\n\\r\\n\\t\\t\\t\\tAmerican Samoa\\n\\r\\n\\t\\t\\t\\tAS\\n\\r\\n\\t\\t\\t\\t60\\n\\n\\n\\r\\n\\t\\t\\t\\tGuam\\n\\r\\n\\t\\t\\t\\tGU\\n\\r\\n\\t\\t\\t\\t66\\n\\n\\n\\r\\n\\t\\t\\t\\tNorthern Mariana Islands\\n\\r\\n\\t\\t\\t\\tMP\\n\\r\\n\\t\\t\\t\\t69\\n\\n\\n\\r\\n\\t\\t\\t\\tPuerto Rico\\n\\r\\n\\t\\t\\t\\tPR\\n\\r\\n\\t\\t\\t\\t72\\n\\n\\n\\r\\n\\t\\t\\t\\tVirgin Islands\\n\\r\\n\\t\\t\\t\\tVI\\n\\r\\n\\t\\t\\t\\t78\\n\\n\\n\\n\\r\\n\\t< Back to About Our Maps\\n\\n\\n'"
      ]
     },
     "execution_count": 19,
     "metadata": {},
     "output_type": "execute_result"
    }
   ],
   "source": [
    "wow.get_text()"
   ]
  },
  {
   "cell_type": "code",
   "execution_count": 20,
   "metadata": {},
   "outputs": [
    {
     "data": {
      "text/plain": [
       "'State FIPS Codes  Name  Postal Code  FIPS  Alabama  AL  01  Alaska  AK  02  Arizona  AZ  04  Arkansas  AR  05  California  CA  06  Colorado  CO  08  Connecticut  CT  09  Delaware  DE  10  Florida  FL  12  Georgia  GA  13  Hawaii  HI  15  Idaho  ID  16  Illinois  IL  17  Indiana  IN  18  Iowa  IA  19  Kansas  KS  20  Kentucky  KY  21  Louisiana  LA  22  Maine  ME  23  Maryland  MD  24  Massachusetts  MA  25  Michigan  MI  26  Minnesota  MN  27  Mississippi  MS  28  Missouri  MO  29  Montana  MT  30  Nebraska  NE  31  Nevada  NV  32  New Hampshire  NH  33  New Jersey  NJ  34  New Mexico  NM  35  New York  NY  36  North Carolina  NC  37  North Dakota  ND  38  Ohio  OH  39  Oklahoma  OK  40  Oregon  OR  41  Pennsylvania  PA  42  Rhode Island  RI  44  South Carolina  SC  45  South Dakota  SD  46  Tennessee  TN  47  Texas  TX  48  Utah  UT  49  Vermont  VT  50  Virginia  VA  51  Washington  WA  53  West Virginia  WV  54  Wisconsin  WI  55  Wyoming  WY  56  American Samoa  AS  60  Guam  GU  66  Northern Mariana Islands  MP  69  Puerto Rico  PR  72  Virgin Islands  VI  78  < Back to About Our Maps'"
      ]
     },
     "execution_count": 20,
     "metadata": {},
     "output_type": "execute_result"
    }
   ],
   "source": [
    "wowtext = wow.get_text().replace(\"\\n\",\"\").replace(\"\\t\",\"\").replace(\"\\r\",\"  \")\n",
    "wowtext"
   ]
  },
  {
   "cell_type": "code",
   "execution_count": 21,
   "metadata": {},
   "outputs": [
    {
     "data": {
      "text/plain": [
       "'Alabama  AL  01  Alaska  AK  02  Arizona  AZ  04  Arkansas  AR  05  California  CA  06  Colorado  CO  08  Connecticut  CT  09  Delaware  DE  10  Florida  FL  12  Georgia  GA  13  Hawaii  HI  15  Idaho  ID  16  Illinois  IL  17  Indiana  IN  18  Iowa  IA  19  Kansas  KS  20  Kentucky  KY  21  Louisiana  LA  22  Maine  ME  23  Maryland  MD  24  Massachusetts  MA  25  Michigan  MI  26  Minnesota  MN  27  Mississippi  MS  28  Missouri  MO  29  Montana  MT  30  Nebraska  NE  31  Nevada  NV  32  New Hampshire  NH  33  New Jersey  NJ  34  New Mexico  NM  35  New York  NY  36  North Carolina  NC  37  North Dakota  ND  38  Ohio  OH  39  Oklahoma  OK  40  Oregon  OR  41  Pennsylvania  PA  42  Rhode Island  RI  44  South Carolina  SC  45  South Dakota  SD  46  Tennessee  TN  47  Texas  TX  48  Utah  UT  49  Vermont  VT  50  Virginia  VA  51  Washington  WA  53  West Virginia  WV  54  Wisconsin  WI  55  Wyoming  WY  56  American Samoa  AS  60  Guam  GU  66  Northern Mariana Islands  MP  69  Puerto Rico  PR  72  Virgin Islands  VI  78  < Back to About Our Maps'"
      ]
     },
     "execution_count": 21,
     "metadata": {},
     "output_type": "execute_result"
    }
   ],
   "source": [
    "wowtext2 = wowtext[wowtext.find('Alabama'):]\n",
    "wowtext2"
   ]
  },
  {
   "cell_type": "code",
   "execution_count": 22,
   "metadata": {},
   "outputs": [
    {
     "data": {
      "text/plain": [
       "'Alabama  AL  01  Alaska  AK  02  Arizona  AZ  04  Arkansas  AR  05  California  CA  06  Colorado  CO  08  Connecticut  CT  09  Delaware  DE  10  Florida  FL  12  Georgia  GA  13  Hawaii  HI  15  Idaho  ID  16  Illinois  IL  17  Indiana  IN  18  Iowa  IA  19  Kansas  KS  20  Kentucky  KY  21  Louisiana  LA  22  Maine  ME  23  Maryland  MD  24  Massachusetts  MA  25  Michigan  MI  26  Minnesota  MN  27  Mississippi  MS  28  Missouri  MO  29  Montana  MT  30  Nebraska  NE  31  Nevada  NV  32  New Hampshire  NH  33  New Jersey  NJ  34  New Mexico  NM  35  New York  NY  36  North Carolina  NC  37  North Dakota  ND  38  Ohio  OH  39  Oklahoma  OK  40  Oregon  OR  41  Pennsylvania  PA  42  Rhode Island  RI  44  South Carolina  SC  45  South Dakota  SD  46  Tennessee  TN  47  Texas  TX  48  Utah  UT  49  Vermont  VT  50  Virginia  VA  51  Washington  WA  53  West Virginia  WV  54  Wisconsin  WI  55  Wyoming  WY  56  American Samoa  AS  60  Guam  GU  66  Northern Mariana Islands  MP  69  Puerto Rico  PR  72  Virgin Islands  VI  78 '"
      ]
     },
     "execution_count": 22,
     "metadata": {},
     "output_type": "execute_result"
    }
   ],
   "source": [
    "wowtext3 = wowtext2[:wowtext2.find(' <')]\n",
    "wowtext3"
   ]
  },
  {
   "cell_type": "code",
   "execution_count": 23,
   "metadata": {},
   "outputs": [
    {
     "name": "stdout",
     "output_type": "stream",
     "text": [
      "['Alabama', 'AL', '01', 'Alaska', 'AK', '02', 'Arizona', 'AZ', '04', 'Arkansas', 'AR', '05', 'California', 'CA', '06', 'Colorado', 'CO', '08', 'Connecticut', 'CT', '09', 'Delaware', 'DE', '10', 'Florida', 'FL', '12', 'Georgia', 'GA', '13', 'Hawaii', 'HI', '15', 'Idaho', 'ID', '16', 'Illinois', 'IL', '17', 'Indiana', 'IN', '18', 'Iowa', 'IA', '19', 'Kansas', 'KS', '20', 'Kentucky', 'KY', '21', 'Louisiana', 'LA', '22', 'Maine', 'ME', '23', 'Maryland', 'MD', '24', 'Massachusetts', 'MA', '25', 'Michigan', 'MI', '26', 'Minnesota', 'MN', '27', 'Mississippi', 'MS', '28', 'Missouri', 'MO', '29', 'Montana', 'MT', '30', 'Nebraska', 'NE', '31', 'Nevada', 'NV', '32', 'New Hampshire', 'NH', '33', 'New Jersey', 'NJ', '34', 'New Mexico', 'NM', '35', 'New York', 'NY', '36', 'North Carolina', 'NC', '37', 'North Dakota', 'ND', '38', 'Ohio', 'OH', '39', 'Oklahoma', 'OK', '40', 'Oregon', 'OR', '41', 'Pennsylvania', 'PA', '42', 'Rhode Island', 'RI', '44', 'South Carolina', 'SC', '45', 'South Dakota', 'SD', '46', 'Tennessee', 'TN', '47', 'Texas', 'TX', '48', 'Utah', 'UT', '49', 'Vermont', 'VT', '50', 'Virginia', 'VA', '51', 'Washington', 'WA', '53', 'West Virginia', 'WV', '54', 'Wisconsin', 'WI', '55', 'Wyoming', 'WY', '56', 'American Samoa', 'AS', '60', 'Guam', 'GU', '66', 'Northern Mariana Islands', 'MP', '69', 'Puerto Rico', 'PR', '72', 'Virgin Islands', 'VI', '78 ']\n"
     ]
    }
   ],
   "source": [
    "wowtext4 = wowtext3.split(\"  \")\n",
    "print(wowtext4)"
   ]
  },
  {
   "cell_type": "code",
   "execution_count": 24,
   "metadata": {},
   "outputs": [
    {
     "data": {
      "text/plain": [
       "165"
      ]
     },
     "execution_count": 24,
     "metadata": {},
     "output_type": "execute_result"
    }
   ],
   "source": [
    "len(wowtext4)"
   ]
  },
  {
   "cell_type": "code",
   "execution_count": 25,
   "metadata": {},
   "outputs": [],
   "source": [
    "stateName = wowtext4[0::3]\n",
    "stateAbb = wowtext4[1::3]\n",
    "stateCode = wowtext4[2::3]"
   ]
  },
  {
   "cell_type": "code",
   "execution_count": 26,
   "metadata": {},
   "outputs": [
    {
     "data": {
      "text/plain": [
       "(55, 55, 55)"
      ]
     },
     "execution_count": 26,
     "metadata": {},
     "output_type": "execute_result"
    }
   ],
   "source": [
    "len(stateCode),len(stateAbb),len(stateCode)"
   ]
  },
  {
   "cell_type": "code",
   "execution_count": 27,
   "metadata": {},
   "outputs": [],
   "source": [
    "with open(\"state_codes.txt\", \"w\") as fp:\n",
    "    json.dump(stateCode, fp)"
   ]
  },
  {
   "cell_type": "code",
   "execution_count": 28,
   "metadata": {},
   "outputs": [],
   "source": [
    "with open(\"state_abbrs.txt\", \"w\") as fp:\n",
    "    json.dump(stateAbb, fp)"
   ]
  },
  {
   "cell_type": "code",
   "execution_count": 29,
   "metadata": {},
   "outputs": [],
   "source": [
    "with open(\"state_names.txt\", \"w\") as fp:\n",
    "    json.dump(stateName, fp)"
   ]
  },
  {
   "cell_type": "code",
   "execution_count": 62,
   "metadata": {},
   "outputs": [],
   "source": [
    "with open(\"state_extns.txt\", \"w\") as fp:\n",
    "    json.dump(extents, fp)"
   ]
  },
  {
   "cell_type": "raw",
   "metadata": {},
   "source": [
    "extents = [[-89,-84.5,30.,35.5],\n",
    "           [],\n",
    "           [],\n",
    "           [],\n",
    "           [],\n",
    "           [-108,-103,38,41],\n",
    "           [],\n",
    "           [],\n",
    "           [],\n",
    "           [],\n",
    "           [],\n",
    "           [],\n",
    "           [],\n",
    "           [],\n",
    "           [],\n",
    "           [],\n",
    "           [],\n",
    "           [],\n",
    "           [],\n",
    "           [],\n",
    "           [],\n",
    "           [],\n",
    "           [],\n",
    "           [],\n",
    "           [],\n",
    "           [],\n",
    "           [],\n",
    "           [],\n",
    "           [],\n",
    "           [],\n",
    "           [],\n",
    "           [],\n",
    "           [],\n",
    "           [],\n",
    "           [],\n",
    "           [],\n",
    "           [],\n",
    "           [-82,-73,38,43],\n",
    "           [],\n",
    "           [],\n",
    "           [],\n",
    "           [],\n",
    "           [],\n",
    "           [],\n",
    "           [],\n",
    "           [],\n",
    "           [],\n",
    "           [],\n",
    "           [],\n",
    "           [],\n",
    "           [],\n",
    "           [],\n",
    "           [],\n",
    "           [],\n",
    "           [],\n",
    "]"
   ]
  },
  {
   "cell_type": "code",
   "execution_count": 34,
   "metadata": {},
   "outputs": [],
   "source": [
    "import pandas as pd"
   ]
  },
  {
   "cell_type": "code",
   "execution_count": 59,
   "metadata": {},
   "outputs": [
    {
     "data": {
      "text/html": [
       "<div>\n",
       "<style scoped>\n",
       "    .dataframe tbody tr th:only-of-type {\n",
       "        vertical-align: middle;\n",
       "    }\n",
       "\n",
       "    .dataframe tbody tr th {\n",
       "        vertical-align: top;\n",
       "    }\n",
       "\n",
       "    .dataframe thead th {\n",
       "        text-align: right;\n",
       "    }\n",
       "</style>\n",
       "<table border=\"1\" class=\"dataframe\">\n",
       "  <thead>\n",
       "    <tr style=\"text-align: right;\">\n",
       "      <th></th>\n",
       "      <th>State</th>\n",
       "      <th>Extent</th>\n",
       "    </tr>\n",
       "  </thead>\n",
       "  <tbody>\n",
       "    <tr>\n",
       "      <td>0</td>\n",
       "      <td>AL</td>\n",
       "      <td>[-89, -84.5, 30.0, 35.5]</td>\n",
       "    </tr>\n",
       "    <tr>\n",
       "      <td>1</td>\n",
       "      <td>AK</td>\n",
       "      <td>[]</td>\n",
       "    </tr>\n",
       "    <tr>\n",
       "      <td>2</td>\n",
       "      <td>AZ</td>\n",
       "      <td>[]</td>\n",
       "    </tr>\n",
       "    <tr>\n",
       "      <td>3</td>\n",
       "      <td>AR</td>\n",
       "      <td>[]</td>\n",
       "    </tr>\n",
       "    <tr>\n",
       "      <td>4</td>\n",
       "      <td>CA</td>\n",
       "      <td>[]</td>\n",
       "    </tr>\n",
       "    <tr>\n",
       "      <td>5</td>\n",
       "      <td>CO</td>\n",
       "      <td>[-108, -103, 38, 41]</td>\n",
       "    </tr>\n",
       "  </tbody>\n",
       "</table>\n",
       "</div>"
      ],
      "text/plain": [
       "  State                    Extent\n",
       "0    AL  [-89, -84.5, 30.0, 35.5]\n",
       "1    AK                        []\n",
       "2    AZ                        []\n",
       "3    AR                        []\n",
       "4    CA                        []\n",
       "5    CO      [-108, -103, 38, 41]"
      ]
     },
     "execution_count": 59,
     "metadata": {},
     "output_type": "execute_result"
    }
   ],
   "source": [
    "stateIds = {\n",
    "           \"State\": stateAbb,\n",
    "           \"Extent\": extents\n",
    "        }\n",
    "df2 = pd.DataFrame(stateIds)\n",
    "df2.head(6)"
   ]
  },
  {
   "cell_type": "code",
   "execution_count": 60,
   "metadata": {},
   "outputs": [],
   "source": [
    "df2.to_csv('data.csv')"
   ]
  },
  {
   "cell_type": "code",
   "execution_count": null,
   "metadata": {},
   "outputs": [],
   "source": []
  }
 ],
 "metadata": {
  "kernelspec": {
   "display_name": "Python 3",
   "language": "python",
   "name": "python3"
  },
  "language_info": {
   "codemirror_mode": {
    "name": "ipython",
    "version": 3
   },
   "file_extension": ".py",
   "mimetype": "text/x-python",
   "name": "python",
   "nbconvert_exporter": "python",
   "pygments_lexer": "ipython3",
   "version": "3.7.6"
  }
 },
 "nbformat": 4,
 "nbformat_minor": 2
}
